{
 "cells": [
  {
   "cell_type": "code",
   "execution_count": 14,
   "metadata": {},
   "outputs": [
    {
     "name": "stdout",
     "output_type": "stream",
     "text": [
      "hello world\n"
     ]
    }
   ],
   "source": [
    "#1\n",
    "print('hello world')"
   ]
  },
  {
   "cell_type": "code",
   "execution_count": 15,
   "metadata": {},
   "outputs": [
    {
     "ename": "ValueError",
     "evalue": "invalid literal for int() with base 10: ''",
     "output_type": "error",
     "traceback": [
      "\u001b[0;31m---------------------------------------------------------------------------\u001b[0m",
      "\u001b[0;31mValueError\u001b[0m                                Traceback (most recent call last)",
      "\u001b[1;32m/Users/abilashkesavan/PycharmProjects/hello world/hello.ipynb Cell 2'\u001b[0m in \u001b[0;36m<cell line: 3>\u001b[0;34m()\u001b[0m\n\u001b[1;32m      <a href='vscode-notebook-cell:/Users/abilashkesavan/PycharmProjects/hello%20world/hello.ipynb#ch0000001?line=0'>1</a>\u001b[0m \u001b[39m#program2\u001b[39;00m\n\u001b[0;32m----> <a href='vscode-notebook-cell:/Users/abilashkesavan/PycharmProjects/hello%20world/hello.ipynb#ch0000001?line=2'>3</a>\u001b[0m a\u001b[39m=\u001b[39m\u001b[39mint\u001b[39;49m(\u001b[39minput\u001b[39;49m(\u001b[39m'\u001b[39;49m\u001b[39menter the value of a\u001b[39;49m\u001b[39m'\u001b[39;49m))\n\u001b[1;32m      <a href='vscode-notebook-cell:/Users/abilashkesavan/PycharmProjects/hello%20world/hello.ipynb#ch0000001?line=3'>4</a>\u001b[0m b\u001b[39m=\u001b[39m\u001b[39mint\u001b[39m(\u001b[39minput\u001b[39m(\u001b[39m'\u001b[39m\u001b[39menter the value of b\u001b[39m\u001b[39m'\u001b[39m))\n\u001b[1;32m      <a href='vscode-notebook-cell:/Users/abilashkesavan/PycharmProjects/hello%20world/hello.ipynb#ch0000001?line=4'>5</a>\u001b[0m c\u001b[39m=\u001b[39ma\u001b[39m+\u001b[39mb\n",
      "\u001b[0;31mValueError\u001b[0m: invalid literal for int() with base 10: ''"
     ]
    }
   ],
   "source": [
    "#program2\n",
    "\n",
    "a=int(input('enter the value of a'))\n",
    "b=int(input('enter the value of b'))\n",
    "c=a+b\n",
    "print(c)"
   ]
  },
  {
   "cell_type": "code",
   "execution_count": null,
   "metadata": {},
   "outputs": [
    {
     "name": "stdout",
     "output_type": "stream",
     "text": [
      "7\n",
      "9\n"
     ]
    }
   ],
   "source": [
    "#program 3\n",
    "a=9\n",
    "b=7\n",
    "a,b=b,a\n",
    "print(a)\n",
    "print(b)"
   ]
  },
  {
   "cell_type": "code",
   "execution_count": null,
   "metadata": {},
   "outputs": [
    {
     "name": "stdout",
     "output_type": "stream",
     "text": [
      "the value in miles is  27.96165\n"
     ]
    }
   ],
   "source": [
    "#program 4\n",
    "a=int(input('enter the value of kilometer:'))\n",
    "b=a*0.62137\n",
    "print('the value in miles is ',b)"
   ]
  },
  {
   "cell_type": "code",
   "execution_count": null,
   "metadata": {},
   "outputs": [
    {
     "name": "stdout",
     "output_type": "stream",
     "text": [
      "the number you entered is negative\n"
     ]
    }
   ],
   "source": [
    "#program 5\n",
    "a=int(input('enter any value:'))\n",
    "if a<0:\n",
    "    print('the number you entered is negative')\n",
    "elif a==0:\n",
    "    print('the number you entered is zero')\n",
    "else:\n",
    "    print('the number you entered is positive')\n",
    "    \n"
   ]
  },
  {
   "cell_type": "code",
   "execution_count": null,
   "metadata": {},
   "outputs": [
    {
     "name": "stdout",
     "output_type": "stream",
     "text": [
      "it is not a leap year\n"
     ]
    }
   ],
   "source": [
    "#program 6\n",
    "a=int(input('enter the year:'))\n",
    "if a%4==0:\n",
    "    print('the entered year is leap year')\n",
    "else:\n",
    "    print('it is not a leap year')"
   ]
  },
  {
   "cell_type": "code",
   "execution_count": null,
   "metadata": {},
   "outputs": [
    {
     "name": "stdout",
     "output_type": "stream",
     "text": [
      "The Prime Numbers in the range are: \n",
      "2\n",
      "3\n",
      "5\n",
      "7\n"
     ]
    }
   ],
   "source": [
    "#program 7\n",
    "lower_value = int(input (\"Please, Enter the Lowest Range Value: \"))  \n",
    "upper_value = int(input (\"Please, Enter the Upper Range Value: \"))  \n",
    "print (\"The Prime Numbers in the range are: \")  \n",
    "for number in range (lower_value, upper_value + 1):  \n",
    "    if number > 1:  \n",
    "        for i in range (2, number):  \n",
    "            if (number % i) == 0:  \n",
    "                break  \n",
    "        else:  \n",
    "            print (number)  "
   ]
  },
  {
   "cell_type": "code",
   "execution_count": null,
   "metadata": {},
   "outputs": [
    {
     "name": "stdout",
     "output_type": "stream",
     "text": [
      "the number of times the word hi is displayed is :  1\n"
     ]
    }
   ],
   "source": [
    "a=input(\"enter the string:\")\n",
    "print(\"the number of times the word hi is displayed is : \",a.count('hi'))        \n",
    "\n"
   ]
  },
  {
   "cell_type": "code",
   "execution_count": null,
   "metadata": {},
   "outputs": [
    {
     "name": "stdout",
     "output_type": "stream",
     "text": [
      "The number is a palindrome\n"
     ]
    }
   ],
   "source": [
    "# check number is pallindrome or not \n",
    "n=int(input(\"Enter number:\"))\n",
    "temp=n\n",
    "rev=0\n",
    "while(n>0):\n",
    "    dig=n%10\n",
    "    rev=rev*10+dig\n",
    "    n=n//10\n",
    "if(temp==rev):\n",
    "    print(\"The number is a palindrome\")\n",
    "else:\n",
    "    print(\"The number isn't a palindrome\")\n"
   ]
  },
  {
   "cell_type": "code",
   "execution_count": null,
   "metadata": {},
   "outputs": [
    {
     "name": "stdout",
     "output_type": "stream",
     "text": [
      "the value is : 5\n",
      "the value is : 10\n",
      "the value is : 15\n"
     ]
    }
   ],
   "source": [
    "# program\n",
    "a=[1,2,3,4,5,6,7,8,9,10,11,12,13,14,15]\n",
    "for i in a:\n",
    "    if(i%5==0):\n",
    "        print('the value is :',i)\n",
    "    else :\n",
    "        continue\n",
    "\n"
   ]
  },
  {
   "cell_type": "code",
   "execution_count": null,
   "metadata": {},
   "outputs": [
    {
     "data": {
      "text/plain": [
       "[5, 2, 3, 4, 1]"
      ]
     },
     "execution_count": 2,
     "metadata": {},
     "output_type": "execute_result"
    }
   ],
   "source": [
    "#program to inerchange elements in list\n",
    "a=[1,2,3,4,5]\n",
    "x=a[0]\n",
    "y=a[-1]\n",
    "a.pop()\n",
    "del a[0]\n",
    "a.append(x)\n",
    "a.insert(0,y)\n",
    "a\n"
   ]
  },
  {
   "cell_type": "code",
   "execution_count": null,
   "metadata": {},
   "outputs": [
    {
     "data": {
      "text/plain": [
       "[5, 2, 3, 4, 1]"
      ]
     },
     "execution_count": 5,
     "metadata": {},
     "output_type": "execute_result"
    }
   ],
   "source": [
    "#program to interchange 2 elements\n",
    "a=[1,2,3,4,5]\n",
    "x=a[0]\n",
    "y=a[-1]\n",
    "a.pop()\n",
    "del a[0]\n",
    "a.append(x)\n",
    "a.insert(0,y)\n",
    "a"
   ]
  },
  {
   "cell_type": "code",
   "execution_count": null,
   "metadata": {},
   "outputs": [
    {
     "name": "stdout",
     "output_type": "stream",
     "text": [
      "the given string is a pallindrome\n"
     ]
    }
   ],
   "source": [
    "#program to print pallindrome \n",
    "a=list(input(\"enter the string:\"))\n",
    "x=a[::-1]\n",
    "if a==x:\n",
    "    print('the given string is a pallindrome')\n",
    "else:\n",
    "    print('it is not a pallindrome')\n",
    "\n"
   ]
  },
  {
   "cell_type": "code",
   "execution_count": null,
   "metadata": {},
   "outputs": [
    {
     "name": "stdout",
     "output_type": "stream",
     "text": [
      "['d', 'l', 'r', 'o', 'w', ' ', 'o', 'l', 'l', 'e', 'h']\n"
     ]
    }
   ],
   "source": [
    "#program to reverse a string \n",
    "a=list(input('enter the string'))\n",
    "x=a[::-1]\n",
    "print(x)"
   ]
  },
  {
   "cell_type": "code",
   "execution_count": null,
   "metadata": {},
   "outputs": [
    {
     "data": {
      "text/plain": [
       "80"
      ]
     },
     "execution_count": 12,
     "metadata": {},
     "output_type": "execute_result"
    }
   ],
   "source": [
    "#program to print size of a tuple \n",
    "a=(1,2,3,4,5,6,7)\n",
    "y=a.__sizeof__()\n",
    "y\n"
   ]
  },
  {
   "cell_type": "code",
   "execution_count": null,
   "metadata": {},
   "outputs": [
    {
     "name": "stdout",
     "output_type": "stream",
     "text": [
      "6\n",
      "1\n"
     ]
    }
   ],
   "source": [
    "#program to find maximum and minimum element in a tupule\n",
    "a=(1,2,3,4,5,6)\n",
    "x=max(a)\n",
    "y=min(a)\n",
    "print(x)\n",
    "print(y)"
   ]
  },
  {
   "cell_type": "code",
   "execution_count": null,
   "metadata": {},
   "outputs": [
    {
     "name": "stdout",
     "output_type": "stream",
     "text": [
      "21\n"
     ]
    }
   ],
   "source": [
    "#program for sum of tuple elements\n",
    "a=(1,2,3,4,5,6)\n",
    "x=sum(a)\n",
    "print(x)\n",
    "\n"
   ]
  },
  {
   "cell_type": "code",
   "execution_count": null,
   "metadata": {},
   "outputs": [
    {
     "data": {
      "text/plain": [
       "712"
      ]
     },
     "execution_count": 7,
     "metadata": {},
     "output_type": "execute_result"
    }
   ],
   "source": [
    "#program for size of a set in python \n",
    "a={1,2,3,4,5,6}\n",
    "a.__sizeof__()"
   ]
  },
  {
   "cell_type": "code",
   "execution_count": null,
   "metadata": {},
   "outputs": [
    {
     "name": "stdout",
     "output_type": "stream",
     "text": [
      "the element is : 1\n",
      "the element is : 2\n",
      "the element is : 3\n",
      "the element is : 4\n",
      "the element is : 5\n",
      "the element is : 6\n"
     ]
    }
   ],
   "source": [
    "#iterate in a set by  python \n",
    "a={1,2,3,4,5,6}\n",
    "for i in a:\n",
    "    print('the element is :',i)\n"
   ]
  },
  {
   "cell_type": "code",
   "execution_count": null,
   "metadata": {},
   "outputs": [
    {
     "name": "stdout",
     "output_type": "stream",
     "text": [
      "['key1', 'key2', 'key3']\n"
     ]
    }
   ],
   "source": [
    "# program to sort dictionary by key and values\n",
    "d={\"key1\":\"1\",\"key3\":\"5\",\"key2\":\"4\"}\n",
    "print(sorted(d))#by keys\n"
   ]
  },
  {
   "cell_type": "code",
   "execution_count": null,
   "metadata": {},
   "outputs": [
    {
     "name": "stdout",
     "output_type": "stream",
     "text": [
      "{1: 1, 3: 4, 2: 9}\n"
     ]
    }
   ],
   "source": [
    "dict1 = {1: 1, 2: 9, 3: 4}\n",
    "sorted_values = sorted(dict1.values()) # Sort the values\n",
    "sorted_dict = {}\n",
    "\n",
    "for i in sorted_values:\n",
    "    for k in dict1.keys():\n",
    "        if dict1[k] == i:\n",
    "            sorted_dict[k] = dict1[k]\n",
    "            break\n",
    "\n",
    "print(sorted_dict)# sort by values"
   ]
  },
  {
   "cell_type": "code",
   "execution_count": null,
   "metadata": {},
   "outputs": [
    {
     "name": "stdout",
     "output_type": "stream",
     "text": [
      "Original String :  a;b:i!l*a s h\n",
      "Resultant list is :  abilash\n"
     ]
    }
   ],
   "source": [
    "#program to remove characters from string \n",
    "bad_chars = [';', ':', '!', \"*\", \" \"]\n",
    "test_string = \"a;b:i!l*a s h\"\n",
    "print (\"Original String : \" , test_string)\n",
    "for i in bad_chars :\n",
    "    test_string = test_string.replace(i, '')\n",
    "print (\"Resultant list is : \" , str(test_string))"
   ]
  },
  {
   "cell_type": "code",
   "execution_count": null,
   "metadata": {},
   "outputs": [
    {
     "name": "stdout",
     "output_type": "stream",
     "text": [
      "The new string is ::\n",
      "abilah\n"
     ]
    }
   ],
   "source": [
    "#program to remove ith character \n",
    "def removechar(str1, n): \n",
    "   x = str1[ : n]   \n",
    "   y = str1[n + 1: ]\n",
    "   return x + y\n",
    "if __name__ == '__main__':\n",
    "   str1 = input(\"Enter a string ::\")\n",
    "   n = int(input(\"Enter the n-th index ::\"))\n",
    "   # Print the new string\n",
    "   print(\"The new string is ::\")\n",
    "   print(removechar(str1, n))\n"
   ]
  },
  {
   "cell_type": "code",
   "execution_count": null,
   "metadata": {},
   "outputs": [],
   "source": [
    "#program for maximum of 2 numbers \n",
    "a=int(input('enter the number:'))\n",
    "b=int(input('enter the another number:'))\n",
    "if a<b:\n",
    "    print('a is ')\n"
   ]
  },
  {
   "cell_type": "code",
   "execution_count": null,
   "metadata": {},
   "outputs": [],
   "source": [
    "#create a list of tuples from given list having number and its cube in each tuple\n",
    "myList = [6, 2, 5 ,1, 4]\n",
    "\n",
    "tupleList = [] \n",
    "for val in myList:\n",
    "    myTuple = (val, (val*val*val))\n",
    "    tupleList.append(myTuple)\n",
    "print(\"The list of Tuples is \" , str(tupleList))"
   ]
  },
  {
   "cell_type": "code",
   "execution_count": null,
   "metadata": {},
   "outputs": [
    {
     "name": "stdout",
     "output_type": "stream",
     "text": [
      "Original set elements:\n",
      "{1, 2, 3, 4, 5, 6, 7, 8, 9}\n",
      "\n",
      "Maximum value of the said set:\n",
      "9\n",
      "\n",
      "Minimum value of the said set:\n",
      "1\n"
     ]
    }
   ],
   "source": [
    "# Maximum and Minimum in a Set\n",
    "setn = {1,2,3,4,5,6,7,8,9}\n",
    "print(\"Original set elements:\")\n",
    "print(setn)\n",
    "print(\"\\nMaximum value of the said set:\")\n",
    "print(max(setn))\n",
    "print(\"\\nMinimum value of the said set:\")\n",
    "print(min(setn))"
   ]
  },
  {
   "cell_type": "code",
   "execution_count": null,
   "metadata": {},
   "outputs": [
    {
     "name": "stdout",
     "output_type": "stream",
     "text": [
      "Original lists:\n",
      "(1, 2, 3, 4)\n",
      "(3, 5, 2, 1)\n",
      "(2, 2, 3, 1)\n",
      "\n",
      "Element-wise sum of the said tuples:\n",
      "(6, 9, 8, 6)\n"
     ]
    }
   ],
   "source": [
    "#Row-wise element Addition in Tuple Matrix\n",
    "x = (1,2,3,4)\n",
    "y = (3,5,2,1)\n",
    "z = (2,2,3,1)\n",
    "print(\"Original lists:\")\n",
    "print(x)\n",
    "print(y)\n",
    "print(z)\n",
    "print(\"\\nElement-wise sum of the said tuples:\")\n",
    "result = tuple(map(sum, zip(x, y, z)))\n",
    "print(result)"
   ]
  },
  {
   "cell_type": "code",
   "execution_count": null,
   "metadata": {},
   "outputs": [
    {
     "name": "stdout",
     "output_type": "stream",
     "text": [
      "The original list :  [[1, 2, 3], [4, 5, 6], [7, 8, 9], [10, 11, 12]]\n",
      "The Assigned Matrix :  {1: [4, 5, 6], 2: [7, 8, 9], 3: [10, 11, 12]}\n"
     ]
    }
   ],
   "source": [
    "#Assigning Subsequent Rows to Matrix first row elements\n",
    "test_list = [[1, 2, 3], [4, 5, 6], [7, 8, 9], [10, 11, 12]]\n",
    "print(\"The original list : \",str(test_list))\n",
    "res = {test_list[0][ele] :  test_list[ele + 1] for ele in range(len(test_list) - 1)}\n",
    "print(\"The Assigned Matrix : \", str(res))"
   ]
  },
  {
   "cell_type": "code",
   "execution_count": 8,
   "metadata": {},
   "outputs": [
    {
     "ename": "ModuleNotFoundError",
     "evalue": "No module named 'numpy'",
     "output_type": "error",
     "traceback": [
      "\u001b[0;31m---------------------------------------------------------------------------\u001b[0m",
      "\u001b[0;31mModuleNotFoundError\u001b[0m                       Traceback (most recent call last)",
      "\u001b[1;32m/Users/abilashkesavan/PycharmProjects/hello world/hello.ipynb Cell 29\u001b[0m in \u001b[0;36m<cell line: 2>\u001b[0;34m()\u001b[0m\n\u001b[1;32m      <a href='vscode-notebook-cell:/Users/abilashkesavan/PycharmProjects/hello%20world/hello.ipynb#ch0000028?line=0'>1</a>\u001b[0m \u001b[39m#Adding and Subtracting Matrices in Python\u001b[39;00m\n\u001b[0;32m----> <a href='vscode-notebook-cell:/Users/abilashkesavan/PycharmProjects/hello%20world/hello.ipynb#ch0000028?line=1'>2</a>\u001b[0m \u001b[39mimport\u001b[39;00m \u001b[39mnumpy\u001b[39;00m \u001b[39mas\u001b[39;00m \u001b[39mnp\u001b[39;00m\n\u001b[1;32m      <a href='vscode-notebook-cell:/Users/abilashkesavan/PycharmProjects/hello%20world/hello.ipynb#ch0000028?line=2'>3</a>\u001b[0m A \u001b[39m=\u001b[39m np\u001b[39m.\u001b[39marray([[\u001b[39m1\u001b[39m, \u001b[39m2\u001b[39m], [\u001b[39m3\u001b[39m, \u001b[39m4\u001b[39m]])\n\u001b[1;32m      <a href='vscode-notebook-cell:/Users/abilashkesavan/PycharmProjects/hello%20world/hello.ipynb#ch0000028?line=3'>4</a>\u001b[0m B \u001b[39m=\u001b[39m np\u001b[39m.\u001b[39marray([[\u001b[39m4\u001b[39m, \u001b[39m5\u001b[39m], [\u001b[39m6\u001b[39m, \u001b[39m7\u001b[39m]])\n",
      "\u001b[0;31mModuleNotFoundError\u001b[0m: No module named 'numpy'"
     ]
    }
   ],
   "source": [
    "#Adding and Subtracting Matrices in Python\n",
    "import numpy as np\n",
    "A = np.array([[1, 2], [3, 4]])\n",
    "B = np.array([[4, 5], [6, 7]])\n",
    "print(\"Printing elements of first matrix\")\n",
    "print(A)\n",
    "print(\"Printing elements of second matrix\")\n",
    "print(B)\n",
    "print(\"Addition of two matrix\")\n",
    "print(np.add(A, B))"
   ]
  },
  {
   "cell_type": "markdown",
   "metadata": {},
   "source": [
    "sir it is not working since ihave an error in importing python modules but the code is correct"
   ]
  },
  {
   "cell_type": "code",
   "execution_count": null,
   "metadata": {},
   "outputs": [
    {
     "name": "stdout",
     "output_type": "stream",
     "text": [
      "4\n"
     ]
    }
   ],
   "source": [
    "#maximum of two number\n",
    "def maximum(a, b):\n",
    "\n",
    "    if a >= b:\n",
    "        return a\n",
    "    else:\n",
    "        return b\n",
    "\n",
    "a = 2\n",
    "b = 4\n",
    "print(maximum(a, b))"
   ]
  },
  {
   "cell_type": "code",
   "execution_count": null,
   "metadata": {},
   "outputs": [
    {
     "name": "stdout",
     "output_type": "stream",
     "text": [
      "2\n"
     ]
    }
   ],
   "source": [
    "#minimum of two number\n",
    "def minimum(a, b):\n",
    "\n",
    "    if a <= b:\n",
    "        return a\n",
    "    else:\n",
    "        return b\n",
    "\n",
    "# Driver code\n",
    "a = 2\n",
    "b = 4\n",
    "print(minimum(a, b))"
   ]
  },
  {
   "cell_type": "code",
   "execution_count": null,
   "metadata": {},
   "outputs": [
    {
     "name": "stdout",
     "output_type": "stream",
     "text": [
      "\n",
      "1 \n",
      "2 2 \n",
      "3 3 3 \n",
      "4 4 4 4 \n",
      "5 5 5 5 5 \n"
     ]
    }
   ],
   "source": [
    "#pattern printing\n",
    "rows = 6\n",
    "for i in range(rows):\n",
    "    \n",
    "    for j in range(i):\n",
    "        print(i, end=' ')\n",
    "    print('')"
   ]
  },
  {
   "cell_type": "code",
   "execution_count": null,
   "metadata": {},
   "outputs": [
    {
     "name": "stdout",
     "output_type": "stream",
     "text": [
      "* \n",
      "* * \n",
      "* * * \n",
      "* * * * \n",
      "* * * * * \n"
     ]
    }
   ],
   "source": [
    "#pattern printing(star)\n",
    "rows = 5\n",
    "for i in range(0, rows):\n",
    "    for j in range(0, i + 1):\n",
    "        print(\"*\", end=' ')\n",
    "    print(\"\\r\")"
   ]
  },
  {
   "cell_type": "code",
   "execution_count": null,
   "metadata": {},
   "outputs": [
    {
     "name": "stdout",
     "output_type": "stream",
     "text": [
      "(a, b)\n"
     ]
    }
   ],
   "source": [
    "#printing list of arguments\n",
    "def fun(a, b):\n",
    "    return a**b \n",
    "import inspect  \n",
    "print(inspect.signature(fun)) "
   ]
  },
  {
   "cell_type": "code",
   "execution_count": null,
   "metadata": {},
   "outputs": [
    {
     "name": "stdout",
     "output_type": "stream",
     "text": [
      "Hello from  abilash,  25\n"
     ]
    }
   ],
   "source": [
    "#program to print multiple argument in python\n",
    "def a(name, num):\n",
    "    print(\"Hello from \", name +', ' , num)\n",
    "a(\"abilash\", \"25\")"
   ]
  }
 ],
 "metadata": {
  "kernelspec": {
   "display_name": "Python 3.8.9 64-bit",
   "language": "python",
   "name": "python3"
  },
  "language_info": {
   "codemirror_mode": {
    "name": "ipython",
    "version": 3
   },
   "file_extension": ".py",
   "mimetype": "text/x-python",
   "name": "python",
   "nbconvert_exporter": "python",
   "pygments_lexer": "ipython3",
   "version": "3.8.9"
  },
  "orig_nbformat": 4,
  "vscode": {
   "interpreter": {
    "hash": "31f2aee4e71d21fbe5cf8b01ff0e069b9275f58929596ceb00d14d90e3e16cd6"
   }
  }
 },
 "nbformat": 4,
 "nbformat_minor": 2
}
